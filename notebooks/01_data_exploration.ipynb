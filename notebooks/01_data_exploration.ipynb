{
 "cells": [
  {
   "metadata": {},
   "cell_type": "markdown",
   "source": "## Import necessary libraries",
   "id": "7a9ba23bb312d686"
  },
  {
   "cell_type": "code",
   "id": "initial_id",
   "metadata": {
    "collapsed": true,
    "ExecuteTime": {
     "end_time": "2024-11-06T08:24:21.834615Z",
     "start_time": "2024-11-06T08:24:21.827638Z"
    }
   },
   "source": [
    "# Import necessary libraries\n",
    "import pandas as pd\n",
    "import numpy as np\n",
    "import matplotlib.pyplot as plt\n",
    "import seaborn as sns\n",
    "\n",
    "# via terminal\n",
    "#pip install pandas numpy matplotlib seaborn scikit-learn jupyter\n",
    "#pip freeze > requirements.txt\n"
   ],
   "outputs": [],
   "execution_count": 1
  },
  {
   "metadata": {
    "ExecuteTime": {
     "end_time": "2024-11-06T10:00:31.473276Z",
     "start_time": "2024-11-06T10:00:25.133284Z"
    }
   },
   "cell_type": "code",
   "source": [
    "# Load the dataset\n",
    "data_path = '../data/raw/PLHIV Linelist.csv'  # Adjust the path as necessary\n",
    "df = pd.read_csv(data_path, low_memory=False)\n"
   ],
   "id": "c527cf2405b4cbe3",
   "outputs": [],
   "execution_count": 3
  },
  {
   "metadata": {
    "ExecuteTime": {
     "end_time": "2024-11-06T10:00:33.820937Z",
     "start_time": "2024-11-06T10:00:33.799049Z"
    }
   },
   "cell_type": "code",
   "source": [
    "# Display the first few rows of the dataset\n",
    "df.head()"
   ],
   "id": "796ae9ab35ab25e6",
   "outputs": [
    {
     "data": {
      "text/plain": [
       "                                           Unique_Id  \\\n",
       "0  000114516EC31395403FA7C4CC5E7FE8EC7E10D0EC457F...   \n",
       "1  000114516EC31395403FA7C4CC5E7FE8EC7E10D0EC457F...   \n",
       "2  000114516EC31395403FA7C4CC5E7FE8EC7E10D0EC457F...   \n",
       "3  000114516EC31395403FA7C4CC5E7FE8EC7E10D0EC457F...   \n",
       "4  0002226CD82A5400EA4F199D719FE9BC61F4B18A1668DD...   \n",
       "\n",
       "                                       PatientPKHash  SiteCode  \\\n",
       "0  000114516EC31395403FA7C4CC5E7FE8EC7E10D0EC457F...     11258   \n",
       "1  000114516EC31395403FA7C4CC5E7FE8EC7E10D0EC457F...     13023   \n",
       "2  000114516EC31395403FA7C4CC5E7FE8EC7E10D0EC457F...     13507   \n",
       "3  000114516EC31395403FA7C4CC5E7FE8EC7E10D0EC457F...     13781   \n",
       "4  0002226CD82A5400EA4F199D719FE9BC61F4B18A1668DD...     12875   \n",
       "\n",
       "                        FacilityName    SubCounty   County  \\\n",
       "0  Bomu Medical Hospital (Changamwe)    Changamwe  Mombasa   \n",
       "1         Kenyatta National Hospital        Kibra  Nairobi   \n",
       "2    Bondo County Referral  Hospital        Bondo    Siaya   \n",
       "3            Maseno Mission Hospital  Kisumu West   Kisumu   \n",
       "4                   Babadogo (EDARP)      Ruaraka  Nairobi   \n",
       "\n",
       "  ARTOutcomeDescription  Gender                      DOB   age  ... Height  \\\n",
       "0                ACTIVE    Male  1997-12-22 00:00:00.000  27.0  ...    NaN   \n",
       "1                ACTIVE    Male  1989-07-17 00:00:00.000  35.0  ...  174.0   \n",
       "2                ACTIVE  Female  1986-02-16 00:00:00.000  38.0  ...  158.0   \n",
       "3                ACTIVE  Female  1990-03-22 00:00:00.000  34.0  ...  156.1   \n",
       "4                ACTIVE    Male  1997-09-04 00:00:00.000  27.0  ...  165.0   \n",
       "\n",
       "  Weight  Adherence AdherenceCategory      BP EverOpportunisticInfections  \\\n",
       "0    NaN        NaN           ART|CTX     NaN                         NaN   \n",
       "1   75.8        NaN           ART|CTX  114/71                         NaN   \n",
       "2   64.0  Good|Good           ART|CTX     NaN                         NaN   \n",
       "3   59.0  Good|Good           ART|CTX  113/71                         NaN   \n",
       "4   58.0       GOOD               ARV  140/63                         NaN   \n",
       "\n",
       "  DateConfirmedHIVPositive       Occupation  DurationOfHIVInfection.Years  \\\n",
       "0               2010-01-15              NaN                          14.0   \n",
       "1               2012-11-30              NaN                          11.0   \n",
       "2               2016-11-22           Trader                           7.0   \n",
       "3                      NaN  OTHER NON-CODED                           NaN   \n",
       "4               2021-10-07              NaN                           2.0   \n",
       "\n",
       "   DurationOnART.Years  \n",
       "0                   14  \n",
       "1                   11  \n",
       "2                    7  \n",
       "3                    2  \n",
       "4                    2  \n",
       "\n",
       "[5 rows x 37 columns]"
      ],
      "text/html": [
       "<div>\n",
       "<style scoped>\n",
       "    .dataframe tbody tr th:only-of-type {\n",
       "        vertical-align: middle;\n",
       "    }\n",
       "\n",
       "    .dataframe tbody tr th {\n",
       "        vertical-align: top;\n",
       "    }\n",
       "\n",
       "    .dataframe thead th {\n",
       "        text-align: right;\n",
       "    }\n",
       "</style>\n",
       "<table border=\"1\" class=\"dataframe\">\n",
       "  <thead>\n",
       "    <tr style=\"text-align: right;\">\n",
       "      <th></th>\n",
       "      <th>Unique_Id</th>\n",
       "      <th>PatientPKHash</th>\n",
       "      <th>SiteCode</th>\n",
       "      <th>FacilityName</th>\n",
       "      <th>SubCounty</th>\n",
       "      <th>County</th>\n",
       "      <th>ARTOutcomeDescription</th>\n",
       "      <th>Gender</th>\n",
       "      <th>DOB</th>\n",
       "      <th>age</th>\n",
       "      <th>...</th>\n",
       "      <th>Height</th>\n",
       "      <th>Weight</th>\n",
       "      <th>Adherence</th>\n",
       "      <th>AdherenceCategory</th>\n",
       "      <th>BP</th>\n",
       "      <th>EverOpportunisticInfections</th>\n",
       "      <th>DateConfirmedHIVPositive</th>\n",
       "      <th>Occupation</th>\n",
       "      <th>DurationOfHIVInfection.Years</th>\n",
       "      <th>DurationOnART.Years</th>\n",
       "    </tr>\n",
       "  </thead>\n",
       "  <tbody>\n",
       "    <tr>\n",
       "      <th>0</th>\n",
       "      <td>000114516EC31395403FA7C4CC5E7FE8EC7E10D0EC457F...</td>\n",
       "      <td>000114516EC31395403FA7C4CC5E7FE8EC7E10D0EC457F...</td>\n",
       "      <td>11258</td>\n",
       "      <td>Bomu Medical Hospital (Changamwe)</td>\n",
       "      <td>Changamwe</td>\n",
       "      <td>Mombasa</td>\n",
       "      <td>ACTIVE</td>\n",
       "      <td>Male</td>\n",
       "      <td>1997-12-22 00:00:00.000</td>\n",
       "      <td>27.0</td>\n",
       "      <td>...</td>\n",
       "      <td>NaN</td>\n",
       "      <td>NaN</td>\n",
       "      <td>NaN</td>\n",
       "      <td>ART|CTX</td>\n",
       "      <td>NaN</td>\n",
       "      <td>NaN</td>\n",
       "      <td>2010-01-15</td>\n",
       "      <td>NaN</td>\n",
       "      <td>14.0</td>\n",
       "      <td>14</td>\n",
       "    </tr>\n",
       "    <tr>\n",
       "      <th>1</th>\n",
       "      <td>000114516EC31395403FA7C4CC5E7FE8EC7E10D0EC457F...</td>\n",
       "      <td>000114516EC31395403FA7C4CC5E7FE8EC7E10D0EC457F...</td>\n",
       "      <td>13023</td>\n",
       "      <td>Kenyatta National Hospital</td>\n",
       "      <td>Kibra</td>\n",
       "      <td>Nairobi</td>\n",
       "      <td>ACTIVE</td>\n",
       "      <td>Male</td>\n",
       "      <td>1989-07-17 00:00:00.000</td>\n",
       "      <td>35.0</td>\n",
       "      <td>...</td>\n",
       "      <td>174.0</td>\n",
       "      <td>75.8</td>\n",
       "      <td>NaN</td>\n",
       "      <td>ART|CTX</td>\n",
       "      <td>114/71</td>\n",
       "      <td>NaN</td>\n",
       "      <td>2012-11-30</td>\n",
       "      <td>NaN</td>\n",
       "      <td>11.0</td>\n",
       "      <td>11</td>\n",
       "    </tr>\n",
       "    <tr>\n",
       "      <th>2</th>\n",
       "      <td>000114516EC31395403FA7C4CC5E7FE8EC7E10D0EC457F...</td>\n",
       "      <td>000114516EC31395403FA7C4CC5E7FE8EC7E10D0EC457F...</td>\n",
       "      <td>13507</td>\n",
       "      <td>Bondo County Referral  Hospital</td>\n",
       "      <td>Bondo</td>\n",
       "      <td>Siaya</td>\n",
       "      <td>ACTIVE</td>\n",
       "      <td>Female</td>\n",
       "      <td>1986-02-16 00:00:00.000</td>\n",
       "      <td>38.0</td>\n",
       "      <td>...</td>\n",
       "      <td>158.0</td>\n",
       "      <td>64.0</td>\n",
       "      <td>Good|Good</td>\n",
       "      <td>ART|CTX</td>\n",
       "      <td>NaN</td>\n",
       "      <td>NaN</td>\n",
       "      <td>2016-11-22</td>\n",
       "      <td>Trader</td>\n",
       "      <td>7.0</td>\n",
       "      <td>7</td>\n",
       "    </tr>\n",
       "    <tr>\n",
       "      <th>3</th>\n",
       "      <td>000114516EC31395403FA7C4CC5E7FE8EC7E10D0EC457F...</td>\n",
       "      <td>000114516EC31395403FA7C4CC5E7FE8EC7E10D0EC457F...</td>\n",
       "      <td>13781</td>\n",
       "      <td>Maseno Mission Hospital</td>\n",
       "      <td>Kisumu West</td>\n",
       "      <td>Kisumu</td>\n",
       "      <td>ACTIVE</td>\n",
       "      <td>Female</td>\n",
       "      <td>1990-03-22 00:00:00.000</td>\n",
       "      <td>34.0</td>\n",
       "      <td>...</td>\n",
       "      <td>156.1</td>\n",
       "      <td>59.0</td>\n",
       "      <td>Good|Good</td>\n",
       "      <td>ART|CTX</td>\n",
       "      <td>113/71</td>\n",
       "      <td>NaN</td>\n",
       "      <td>NaN</td>\n",
       "      <td>OTHER NON-CODED</td>\n",
       "      <td>NaN</td>\n",
       "      <td>2</td>\n",
       "    </tr>\n",
       "    <tr>\n",
       "      <th>4</th>\n",
       "      <td>0002226CD82A5400EA4F199D719FE9BC61F4B18A1668DD...</td>\n",
       "      <td>0002226CD82A5400EA4F199D719FE9BC61F4B18A1668DD...</td>\n",
       "      <td>12875</td>\n",
       "      <td>Babadogo (EDARP)</td>\n",
       "      <td>Ruaraka</td>\n",
       "      <td>Nairobi</td>\n",
       "      <td>ACTIVE</td>\n",
       "      <td>Male</td>\n",
       "      <td>1997-09-04 00:00:00.000</td>\n",
       "      <td>27.0</td>\n",
       "      <td>...</td>\n",
       "      <td>165.0</td>\n",
       "      <td>58.0</td>\n",
       "      <td>GOOD</td>\n",
       "      <td>ARV</td>\n",
       "      <td>140/63</td>\n",
       "      <td>NaN</td>\n",
       "      <td>2021-10-07</td>\n",
       "      <td>NaN</td>\n",
       "      <td>2.0</td>\n",
       "      <td>2</td>\n",
       "    </tr>\n",
       "  </tbody>\n",
       "</table>\n",
       "<p>5 rows × 37 columns</p>\n",
       "</div>"
      ]
     },
     "execution_count": 4,
     "metadata": {},
     "output_type": "execute_result"
    }
   ],
   "execution_count": 4
  },
  {
   "metadata": {
    "ExecuteTime": {
     "end_time": "2024-11-06T10:01:22.913082Z",
     "start_time": "2024-11-06T10:01:22.321792Z"
    }
   },
   "cell_type": "code",
   "source": [
    "# Display summary statistics of the dataset\n",
    "df.describe()"
   ],
   "id": "1d8161cd690b6bb3",
   "outputs": [
    {
     "data": {
      "text/plain": [
       "           SiteCode           age  HasHypertension  ScreenedDiabetes  \\\n",
       "count  1.236671e+06  1.236664e+06     1.236671e+06      1.236671e+06   \n",
       "mean   1.413206e+04  4.273963e+01     4.312707e-02      5.864130e-03   \n",
       "std    2.283988e+03  1.406548e+01     2.031432e-01      7.635278e-02   \n",
       "min    1.001900e+04  0.000000e+00     0.000000e+00      0.000000e+00   \n",
       "25%    1.292900e+04  3.400000e+01     0.000000e+00      0.000000e+00   \n",
       "50%    1.382500e+04  4.300000e+01     0.000000e+00      0.000000e+00   \n",
       "75%    1.522900e+04  5.200000e+01     0.000000e+00      0.000000e+00   \n",
       "max    2.963000e+04  1.130000e+02     1.000000e+00      1.000000e+00   \n",
       "\n",
       "        HasDiabetes  ScreenedForDepression  HasMentalIllness       LastCD4  \\\n",
       "count  1.236671e+06           1.236671e+06      1.236671e+06  6.057120e+05   \n",
       "mean   7.520189e-03           5.813276e-01      1.184632e-03  6.348031e+02   \n",
       "std    8.639237e-02           4.933417e-01      3.439810e-02  6.575654e+04   \n",
       "min    0.000000e+00           0.000000e+00      0.000000e+00 -1.431000e+03   \n",
       "25%    0.000000e+00           0.000000e+00      0.000000e+00  2.370000e+02   \n",
       "50%    0.000000e+00           1.000000e+00      0.000000e+00  4.060000e+02   \n",
       "75%    0.000000e+00           1.000000e+00      0.000000e+00  6.110000e+02   \n",
       "max    1.000000e+00           1.000000e+00      1.000000e+00  5.030212e+07   \n",
       "\n",
       "           WhoStage        Height        Weight  DurationOfHIVInfection.Years  \\\n",
       "count  1.072268e+06  1.092416e+06  1.093276e+06                  1.152915e+06   \n",
       "mean   1.211722e+00  1.630355e+02  6.320118e+01                  9.187478e+00   \n",
       "std    5.564651e-01  1.169834e+01  1.522479e+01                  5.389809e+00   \n",
       "min    1.000000e+00  0.000000e+00  0.000000e+00                  0.000000e+00   \n",
       "25%    1.000000e+00  1.580000e+02  5.400000e+01                  5.000000e+00   \n",
       "50%    1.000000e+00  1.630000e+02  6.200000e+01                  9.000000e+00   \n",
       "75%    1.000000e+00  1.690000e+02  7.150000e+01                  1.400000e+01   \n",
       "max    4.000000e+00  9.990000e+02  9.990000e+02                  4.400000e+01   \n",
       "\n",
       "       DurationOnART.Years  \n",
       "count         1.236671e+06  \n",
       "mean          8.394969e+00  \n",
       "std           4.859445e+00  \n",
       "min           0.000000e+00  \n",
       "25%           5.000000e+00  \n",
       "50%           8.000000e+00  \n",
       "75%           1.200000e+01  \n",
       "max           4.400000e+01  "
      ],
      "text/html": [
       "<div>\n",
       "<style scoped>\n",
       "    .dataframe tbody tr th:only-of-type {\n",
       "        vertical-align: middle;\n",
       "    }\n",
       "\n",
       "    .dataframe tbody tr th {\n",
       "        vertical-align: top;\n",
       "    }\n",
       "\n",
       "    .dataframe thead th {\n",
       "        text-align: right;\n",
       "    }\n",
       "</style>\n",
       "<table border=\"1\" class=\"dataframe\">\n",
       "  <thead>\n",
       "    <tr style=\"text-align: right;\">\n",
       "      <th></th>\n",
       "      <th>SiteCode</th>\n",
       "      <th>age</th>\n",
       "      <th>HasHypertension</th>\n",
       "      <th>ScreenedDiabetes</th>\n",
       "      <th>HasDiabetes</th>\n",
       "      <th>ScreenedForDepression</th>\n",
       "      <th>HasMentalIllness</th>\n",
       "      <th>LastCD4</th>\n",
       "      <th>WhoStage</th>\n",
       "      <th>Height</th>\n",
       "      <th>Weight</th>\n",
       "      <th>DurationOfHIVInfection.Years</th>\n",
       "      <th>DurationOnART.Years</th>\n",
       "    </tr>\n",
       "  </thead>\n",
       "  <tbody>\n",
       "    <tr>\n",
       "      <th>count</th>\n",
       "      <td>1.236671e+06</td>\n",
       "      <td>1.236664e+06</td>\n",
       "      <td>1.236671e+06</td>\n",
       "      <td>1.236671e+06</td>\n",
       "      <td>1.236671e+06</td>\n",
       "      <td>1.236671e+06</td>\n",
       "      <td>1.236671e+06</td>\n",
       "      <td>6.057120e+05</td>\n",
       "      <td>1.072268e+06</td>\n",
       "      <td>1.092416e+06</td>\n",
       "      <td>1.093276e+06</td>\n",
       "      <td>1.152915e+06</td>\n",
       "      <td>1.236671e+06</td>\n",
       "    </tr>\n",
       "    <tr>\n",
       "      <th>mean</th>\n",
       "      <td>1.413206e+04</td>\n",
       "      <td>4.273963e+01</td>\n",
       "      <td>4.312707e-02</td>\n",
       "      <td>5.864130e-03</td>\n",
       "      <td>7.520189e-03</td>\n",
       "      <td>5.813276e-01</td>\n",
       "      <td>1.184632e-03</td>\n",
       "      <td>6.348031e+02</td>\n",
       "      <td>1.211722e+00</td>\n",
       "      <td>1.630355e+02</td>\n",
       "      <td>6.320118e+01</td>\n",
       "      <td>9.187478e+00</td>\n",
       "      <td>8.394969e+00</td>\n",
       "    </tr>\n",
       "    <tr>\n",
       "      <th>std</th>\n",
       "      <td>2.283988e+03</td>\n",
       "      <td>1.406548e+01</td>\n",
       "      <td>2.031432e-01</td>\n",
       "      <td>7.635278e-02</td>\n",
       "      <td>8.639237e-02</td>\n",
       "      <td>4.933417e-01</td>\n",
       "      <td>3.439810e-02</td>\n",
       "      <td>6.575654e+04</td>\n",
       "      <td>5.564651e-01</td>\n",
       "      <td>1.169834e+01</td>\n",
       "      <td>1.522479e+01</td>\n",
       "      <td>5.389809e+00</td>\n",
       "      <td>4.859445e+00</td>\n",
       "    </tr>\n",
       "    <tr>\n",
       "      <th>min</th>\n",
       "      <td>1.001900e+04</td>\n",
       "      <td>0.000000e+00</td>\n",
       "      <td>0.000000e+00</td>\n",
       "      <td>0.000000e+00</td>\n",
       "      <td>0.000000e+00</td>\n",
       "      <td>0.000000e+00</td>\n",
       "      <td>0.000000e+00</td>\n",
       "      <td>-1.431000e+03</td>\n",
       "      <td>1.000000e+00</td>\n",
       "      <td>0.000000e+00</td>\n",
       "      <td>0.000000e+00</td>\n",
       "      <td>0.000000e+00</td>\n",
       "      <td>0.000000e+00</td>\n",
       "    </tr>\n",
       "    <tr>\n",
       "      <th>25%</th>\n",
       "      <td>1.292900e+04</td>\n",
       "      <td>3.400000e+01</td>\n",
       "      <td>0.000000e+00</td>\n",
       "      <td>0.000000e+00</td>\n",
       "      <td>0.000000e+00</td>\n",
       "      <td>0.000000e+00</td>\n",
       "      <td>0.000000e+00</td>\n",
       "      <td>2.370000e+02</td>\n",
       "      <td>1.000000e+00</td>\n",
       "      <td>1.580000e+02</td>\n",
       "      <td>5.400000e+01</td>\n",
       "      <td>5.000000e+00</td>\n",
       "      <td>5.000000e+00</td>\n",
       "    </tr>\n",
       "    <tr>\n",
       "      <th>50%</th>\n",
       "      <td>1.382500e+04</td>\n",
       "      <td>4.300000e+01</td>\n",
       "      <td>0.000000e+00</td>\n",
       "      <td>0.000000e+00</td>\n",
       "      <td>0.000000e+00</td>\n",
       "      <td>1.000000e+00</td>\n",
       "      <td>0.000000e+00</td>\n",
       "      <td>4.060000e+02</td>\n",
       "      <td>1.000000e+00</td>\n",
       "      <td>1.630000e+02</td>\n",
       "      <td>6.200000e+01</td>\n",
       "      <td>9.000000e+00</td>\n",
       "      <td>8.000000e+00</td>\n",
       "    </tr>\n",
       "    <tr>\n",
       "      <th>75%</th>\n",
       "      <td>1.522900e+04</td>\n",
       "      <td>5.200000e+01</td>\n",
       "      <td>0.000000e+00</td>\n",
       "      <td>0.000000e+00</td>\n",
       "      <td>0.000000e+00</td>\n",
       "      <td>1.000000e+00</td>\n",
       "      <td>0.000000e+00</td>\n",
       "      <td>6.110000e+02</td>\n",
       "      <td>1.000000e+00</td>\n",
       "      <td>1.690000e+02</td>\n",
       "      <td>7.150000e+01</td>\n",
       "      <td>1.400000e+01</td>\n",
       "      <td>1.200000e+01</td>\n",
       "    </tr>\n",
       "    <tr>\n",
       "      <th>max</th>\n",
       "      <td>2.963000e+04</td>\n",
       "      <td>1.130000e+02</td>\n",
       "      <td>1.000000e+00</td>\n",
       "      <td>1.000000e+00</td>\n",
       "      <td>1.000000e+00</td>\n",
       "      <td>1.000000e+00</td>\n",
       "      <td>1.000000e+00</td>\n",
       "      <td>5.030212e+07</td>\n",
       "      <td>4.000000e+00</td>\n",
       "      <td>9.990000e+02</td>\n",
       "      <td>9.990000e+02</td>\n",
       "      <td>4.400000e+01</td>\n",
       "      <td>4.400000e+01</td>\n",
       "    </tr>\n",
       "  </tbody>\n",
       "</table>\n",
       "</div>"
      ]
     },
     "execution_count": 5,
     "metadata": {},
     "output_type": "execute_result"
    }
   ],
   "execution_count": 5
  },
  {
   "metadata": {
    "ExecuteTime": {
     "end_time": "2024-11-06T10:01:36.872178Z",
     "start_time": "2024-11-06T10:01:36.105178Z"
    }
   },
   "cell_type": "code",
   "source": [
    "# Check for missing values\n",
    "missing_values = df.isnull().sum()\n",
    "print(\"Missing values in each column:\\n\", missing_values)"
   ],
   "id": "bfc29b4df87ccd10",
   "outputs": [
    {
     "name": "stdout",
     "output_type": "stream",
     "text": [
      "Missing values in each column:\n",
      " Unique_Id                             0\n",
      "PatientPKHash                         0\n",
      "SiteCode                              0\n",
      "FacilityName                          0\n",
      "SubCounty                             0\n",
      "County                                0\n",
      "ARTOutcomeDescription                 0\n",
      "Gender                                0\n",
      "DOB                                   5\n",
      "age                                   7\n",
      "StartARTDate                          0\n",
      "StartRegimen                      25236\n",
      "StartRegimenLine                  26126\n",
      "CurrentRegimen                     2088\n",
      "CurrentRegimenline                22800\n",
      "LastVisitDate                         0\n",
      "LastVLDate                        51908\n",
      "LastVL                            51908\n",
      "HasHypertension                       0\n",
      "ScreenedDiabetes                      0\n",
      "HasDiabetes                           0\n",
      "ScreenedForDepression                 0\n",
      "ScreenedDepressionDate           517760\n",
      "HasMentalIllness                      0\n",
      "LastCD4                          630959\n",
      "LastCD4Percentage               1183673\n",
      "WhoStage                         164403\n",
      "Height                           144255\n",
      "Weight                           143395\n",
      "Adherence                        203189\n",
      "AdherenceCategory                 24658\n",
      "BP                               502924\n",
      "EverOpportunisticInfections     1234670\n",
      "DateConfirmedHIVPositive          83756\n",
      "Occupation                       583376\n",
      "DurationOfHIVInfection.Years      83756\n",
      "DurationOnART.Years                   0\n",
      "dtype: int64\n"
     ]
    }
   ],
   "execution_count": 6
  },
  {
   "metadata": {
    "ExecuteTime": {
     "end_time": "2024-07-15T05:17:24.168171Z",
     "start_time": "2024-07-15T05:17:24.162555Z"
    }
   },
   "cell_type": "code",
   "source": [
    "# # Explore the distribution of the target variable\n",
    "# sns.countplot(df['HasDiabetes'])\n",
    "# plt.title('Distribution of Diabetes Outcome')\n",
    "# plt.xlabel('Outcome')\n",
    "# plt.ylabel('Count')\n",
    "# plt.show()"
   ],
   "id": "d66bce7aad5c867f",
   "outputs": [],
   "execution_count": 51
  },
  {
   "metadata": {
    "ExecuteTime": {
     "end_time": "2024-11-06T10:01:46.601960Z",
     "start_time": "2024-11-06T10:01:46.574987Z"
    }
   },
   "cell_type": "code",
   "source": "df['HasDiabetes'].value_counts()",
   "id": "6f7edb3f956cecaa",
   "outputs": [
    {
     "data": {
      "text/plain": [
       "HasDiabetes\n",
       "0    1227371\n",
       "1       9300\n",
       "Name: count, dtype: int64"
      ]
     },
     "execution_count": 7,
     "metadata": {},
     "output_type": "execute_result"
    }
   ],
   "execution_count": 7
  },
  {
   "metadata": {
    "ExecuteTime": {
     "end_time": "2024-11-06T10:01:59.214364Z",
     "start_time": "2024-11-06T10:01:59.187366Z"
    }
   },
   "cell_type": "code",
   "source": [
    "# WHO Stage\n",
    "df['WhoStage'].value_counts()"
   ],
   "id": "a74ec0a529b97e01",
   "outputs": [
    {
     "data": {
      "text/plain": [
       "WhoStage\n",
       "1.0    914111\n",
       "2.0     96962\n",
       "3.0     53524\n",
       "4.0      7671\n",
       "Name: count, dtype: int64"
      ]
     },
     "execution_count": 8,
     "metadata": {},
     "output_type": "execute_result"
    }
   ],
   "execution_count": 8
  },
  {
   "metadata": {
    "ExecuteTime": {
     "end_time": "2024-11-06T10:06:27.735363Z",
     "start_time": "2024-11-06T10:06:27.727957Z"
    }
   },
   "cell_type": "code",
   "source": [
    "# Check CD4\n",
    "def categorize_cd4(count):\n",
    "    if count <= 200:\n",
    "        return '<=200'\n",
    "    else:\n",
    "        return '>200'\n"
   ],
   "id": "ac9228dedb6ab631",
   "outputs": [],
   "execution_count": 14
  },
  {
   "metadata": {
    "ExecuteTime": {
     "end_time": "2024-11-06T13:32:23.355888Z",
     "start_time": "2024-11-06T13:32:23.210697Z"
    }
   },
   "cell_type": "code",
   "source": [
    "# Age\n",
    "cd4_bins = [float('-inf'), 200, float('inf')]\n",
    "cd4_bin_labels = ['<=200', '200+']\n",
    "df['cd4_category'] = pd.cut(df['LastCD4'], bins=cd4_bins, labels=cd4_bin_labels)\n",
    "df['cd4_category'].value_counts()"
   ],
   "id": "64f88d40fd60746",
   "outputs": [
    {
     "data": {
      "text/plain": [
       "cd4_category\n",
       "200+     483736\n",
       "<=200    121976\n",
       "Name: count, dtype: int64"
      ]
     },
     "execution_count": 17,
     "metadata": {},
     "output_type": "execute_result"
    }
   ],
   "execution_count": 17
  },
  {
   "metadata": {
    "ExecuteTime": {
     "end_time": "2024-11-06T13:32:25.060078Z",
     "start_time": "2024-11-06T13:32:24.965898Z"
    }
   },
   "cell_type": "code",
   "source": [
    "# Age\n",
    "age_bins = [float('-inf'), 5, 10, 15, 20, 25, 30, 35, 40, 45, 50, 55, 60, 65, float('inf')]\n",
    "age_bin_labels = ['<5', '5-9', '10-14', '15-19', '20-24', '25-29', '30-34', '35-39', '40-44', '45-49', '50-54', '55-59', '60-64', '65+']\n",
    "df['age_cat'] = pd.cut(df['age'], bins=age_bins, labels=age_bin_labels)\n",
    "df['age_cat'].value_counts()"
   ],
   "id": "cf609ab63046e0ec",
   "outputs": [
    {
     "data": {
      "text/plain": [
       "age_cat\n",
       "35-39    182854\n",
       "45-49    179850\n",
       "40-44    169089\n",
       "50-54    134702\n",
       "30-34    124590\n",
       "55-59     93630\n",
       "25-29     85230\n",
       "60-64     67326\n",
       "65+       60605\n",
       "20-24     52566\n",
       "15-19     39600\n",
       "10-14     27338\n",
       "5-9       13843\n",
       "<5         5441\n",
       "Name: count, dtype: int64"
      ]
     },
     "execution_count": 18,
     "metadata": {},
     "output_type": "execute_result"
    }
   ],
   "execution_count": 18
  },
  {
   "metadata": {},
   "cell_type": "markdown",
   "source": "## AHD Outcome",
   "id": "3669fc06ac63857a"
  },
  {
   "metadata": {
    "ExecuteTime": {
     "end_time": "2024-11-06T13:32:32.728797Z",
     "start_time": "2024-11-06T13:32:32.710345Z"
    }
   },
   "cell_type": "code",
   "source": [
    "# Define the function\n",
    "import pandas as pd\n",
    "def is_ahd(row):\n",
    "    \"\"\"\n",
    "    Determine if an individual has advanced HIV disease (AHD).\n",
    "\n",
    "    Parameters:\n",
    "    row (pd.Series): A row of the DataFrame containing the necessary columns.\n",
    "\n",
    "    Returns:\n",
    "    bool: True if the individual has AHD, False otherwise.\n",
    "    \"\"\"\n",
    "    cd4_count = row['LastCD4']\n",
    "    who_stage = row['WhoStage']\n",
    "    age = row['age']\n",
    "\n",
    "    if age < 5:\n",
    "        return 1\n",
    "    if cd4_count < 200 or who_stage in [3, 4]:\n",
    "        return 1\n",
    "    return 0\n",
    "\n",
    "\n"
   ],
   "id": "63cd8b32c8f55662",
   "outputs": [],
   "execution_count": 19
  },
  {
   "metadata": {
    "ExecuteTime": {
     "end_time": "2024-11-06T13:32:44.907505Z",
     "start_time": "2024-11-06T13:32:34.258919Z"
    }
   },
   "cell_type": "code",
   "source": [
    "df['is_ahd'] = df.apply(is_ahd, axis=1)\n",
    "df['is_ahd'].value_counts()"
   ],
   "id": "278d49b8e23d99d0",
   "outputs": [
    {
     "data": {
      "text/plain": [
       "is_ahd\n",
       "0    1059637\n",
       "1     177034\n",
       "Name: count, dtype: int64"
      ]
     },
     "execution_count": 20,
     "metadata": {},
     "output_type": "execute_result"
    }
   ],
   "execution_count": 20
  },
  {
   "metadata": {
    "ExecuteTime": {
     "end_time": "2024-07-12T07:47:04.759160Z",
     "start_time": "2024-07-12T07:47:04.697612Z"
    }
   },
   "cell_type": "code",
   "source": [
    "# AHD By group\n",
    "grouped = df.groupby('age_cat')['is_ahd'].value_counts().unstack()\n",
    "\n",
    "# Calculate percentage of is_ahd = 1 within each age group\n",
    "grouped['percent_is_ahd'] = (grouped[1] / grouped.sum(axis=1)) * 100\n",
    "\n",
    "# Reset index for clearer presentation\n",
    "grouped = grouped.reset_index()\n",
    "grouped"
   ],
   "id": "e757253312abb547",
   "outputs": [
    {
     "name": "stderr",
     "output_type": "stream",
     "text": [
      "C:\\Users\\uat6\\AppData\\Local\\Temp\\1\\ipykernel_14072\\2487494983.py:2: FutureWarning: The default of observed=False is deprecated and will be changed to True in a future version of pandas. Pass observed=False to retain current behavior or observed=True to adopt the future default and silence this warning.\n",
      "  grouped = df.groupby('age_cat')['is_ahd'].value_counts().unstack()\n"
     ]
    },
    {
     "data": {
      "text/plain": [
       "is_ahd age_cat       0      1  percent_is_ahd\n",
       "0           <5    1460   3981       73.166697\n",
       "1          5-9   13086    757        5.468468\n",
       "2        10-14   25443   1895        6.931743\n",
       "3        15-19   35791   3809        9.618687\n",
       "4        20-24   47868   4698        8.937336\n",
       "5        25-29   78919   6311        7.404670\n",
       "6        30-34  113516  11074        8.888354\n",
       "7        35-39  161250  21604       11.814891\n",
       "8        40-44  144050  25039       14.808178\n",
       "9        45-49  148557  31293       17.399500\n",
       "10       50-54  109619  25083       18.621104\n",
       "11       55-59   75601  18029       19.255580\n",
       "12       60-64   54977  12349       18.342097\n",
       "13         65+   49494  11111       18.333471"
      ],
      "text/html": [
       "<div>\n",
       "<style scoped>\n",
       "    .dataframe tbody tr th:only-of-type {\n",
       "        vertical-align: middle;\n",
       "    }\n",
       "\n",
       "    .dataframe tbody tr th {\n",
       "        vertical-align: top;\n",
       "    }\n",
       "\n",
       "    .dataframe thead th {\n",
       "        text-align: right;\n",
       "    }\n",
       "</style>\n",
       "<table border=\"1\" class=\"dataframe\">\n",
       "  <thead>\n",
       "    <tr style=\"text-align: right;\">\n",
       "      <th>is_ahd</th>\n",
       "      <th>age_cat</th>\n",
       "      <th>0</th>\n",
       "      <th>1</th>\n",
       "      <th>percent_is_ahd</th>\n",
       "    </tr>\n",
       "  </thead>\n",
       "  <tbody>\n",
       "    <tr>\n",
       "      <th>0</th>\n",
       "      <td>&lt;5</td>\n",
       "      <td>1460</td>\n",
       "      <td>3981</td>\n",
       "      <td>73.166697</td>\n",
       "    </tr>\n",
       "    <tr>\n",
       "      <th>1</th>\n",
       "      <td>5-9</td>\n",
       "      <td>13086</td>\n",
       "      <td>757</td>\n",
       "      <td>5.468468</td>\n",
       "    </tr>\n",
       "    <tr>\n",
       "      <th>2</th>\n",
       "      <td>10-14</td>\n",
       "      <td>25443</td>\n",
       "      <td>1895</td>\n",
       "      <td>6.931743</td>\n",
       "    </tr>\n",
       "    <tr>\n",
       "      <th>3</th>\n",
       "      <td>15-19</td>\n",
       "      <td>35791</td>\n",
       "      <td>3809</td>\n",
       "      <td>9.618687</td>\n",
       "    </tr>\n",
       "    <tr>\n",
       "      <th>4</th>\n",
       "      <td>20-24</td>\n",
       "      <td>47868</td>\n",
       "      <td>4698</td>\n",
       "      <td>8.937336</td>\n",
       "    </tr>\n",
       "    <tr>\n",
       "      <th>5</th>\n",
       "      <td>25-29</td>\n",
       "      <td>78919</td>\n",
       "      <td>6311</td>\n",
       "      <td>7.404670</td>\n",
       "    </tr>\n",
       "    <tr>\n",
       "      <th>6</th>\n",
       "      <td>30-34</td>\n",
       "      <td>113516</td>\n",
       "      <td>11074</td>\n",
       "      <td>8.888354</td>\n",
       "    </tr>\n",
       "    <tr>\n",
       "      <th>7</th>\n",
       "      <td>35-39</td>\n",
       "      <td>161250</td>\n",
       "      <td>21604</td>\n",
       "      <td>11.814891</td>\n",
       "    </tr>\n",
       "    <tr>\n",
       "      <th>8</th>\n",
       "      <td>40-44</td>\n",
       "      <td>144050</td>\n",
       "      <td>25039</td>\n",
       "      <td>14.808178</td>\n",
       "    </tr>\n",
       "    <tr>\n",
       "      <th>9</th>\n",
       "      <td>45-49</td>\n",
       "      <td>148557</td>\n",
       "      <td>31293</td>\n",
       "      <td>17.399500</td>\n",
       "    </tr>\n",
       "    <tr>\n",
       "      <th>10</th>\n",
       "      <td>50-54</td>\n",
       "      <td>109619</td>\n",
       "      <td>25083</td>\n",
       "      <td>18.621104</td>\n",
       "    </tr>\n",
       "    <tr>\n",
       "      <th>11</th>\n",
       "      <td>55-59</td>\n",
       "      <td>75601</td>\n",
       "      <td>18029</td>\n",
       "      <td>19.255580</td>\n",
       "    </tr>\n",
       "    <tr>\n",
       "      <th>12</th>\n",
       "      <td>60-64</td>\n",
       "      <td>54977</td>\n",
       "      <td>12349</td>\n",
       "      <td>18.342097</td>\n",
       "    </tr>\n",
       "    <tr>\n",
       "      <th>13</th>\n",
       "      <td>65+</td>\n",
       "      <td>49494</td>\n",
       "      <td>11111</td>\n",
       "      <td>18.333471</td>\n",
       "    </tr>\n",
       "  </tbody>\n",
       "</table>\n",
       "</div>"
      ]
     },
     "execution_count": 42,
     "metadata": {},
     "output_type": "execute_result"
    }
   ],
   "execution_count": 42
  },
  {
   "metadata": {
    "ExecuteTime": {
     "end_time": "2024-07-12T07:52:09.395365Z",
     "start_time": "2024-07-12T07:52:09.034296Z"
    }
   },
   "cell_type": "code",
   "source": [
    "import pandas as pd\n",
    "from plotnine import ggplot, aes, geom_bar, labs, theme_minimal\n",
    "\n",
    "# Plot using plotnine\n",
    "plot = (\n",
    "    ggplot(grouped, aes(x='age_cat', y='percent_is_ahd')) +\n",
    "    geom_bar(stat='identity', fill='skyblue') +\n",
    "    labs(title='Percentage of Advanced HIV Disease by Age Group',\n",
    "         x='Age Group',\n",
    "         y='Percentage of Advanced HIV Disease (%)') +\n",
    "    theme_minimal()\n",
    ")\n",
    "\n",
    "# Display the plot\n",
    "print(plot)\n"
   ],
   "id": "e989a76148fae6bd",
   "outputs": [
    {
     "name": "stderr",
     "output_type": "stream",
     "text": [
      "C:\\Users\\uat6\\AppData\\Local\\Temp\\1\\ipykernel_14072\\3661824220.py:15: FutureWarning: Using print(plot) to draw and show the plot figure is deprecated and will be removed in a future version. Use plot.show().\n"
     ]
    },
    {
     "data": {
      "image/png": "[encoded data removed]"
     },
     "metadata": {
      "image/png": {
       "width": 640,
       "height": 480
      }
     },
     "output_type": "display_data"
    },
    {
     "name": "stdout",
     "output_type": "stream",
     "text": [
      "\n"
     ]
    }
   ],
   "execution_count": 44
  },
  {
   "metadata": {},
   "cell_type": "markdown",
   "source": "## Correlation between CD4 and WHO staging",
   "id": "efb70ab8dabbb220"
  }
 ],
 "metadata": {
  "kernelspec": {
   "display_name": "Python 3",
   "language": "python",
   "name": "python3"
  },
  "language_info": {
   "codemirror_mode": {
    "name": "ipython",
    "version": 2
   },
   "file_extension": ".py",
   "mimetype": "text/x-python",
   "name": "python",
   "nbconvert_exporter": "python",
   "pygments_lexer": "ipython2",
   "version": "2.7.6"
  }
 },
 "nbformat": 4,
 "nbformat_minor": 5
}
